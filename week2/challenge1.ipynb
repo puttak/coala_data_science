{
 "cells": [
  {
   "cell_type": "code",
   "execution_count": 1,
   "metadata": {},
   "outputs": [
    {
     "name": "stdout",
     "output_type": "stream",
     "text": [
      "[{'name': '박지성', 'phone': '01040281234'}, {'name': '이청용', 'phone': '01040281234'}, {'name': '손흥민', 'phone': '01040281234'}]\n",
      "{'name': '이청용', 'phone': '01040281234'}\n"
     ]
    }
   ],
   "source": [
    "phonebook = [\n",
    "    {\n",
    "        \"name\": \"박지성\",\n",
    "        \"phone\": \"01040281234\"\n",
    "    },\n",
    "    {\n",
    "        \"name\": \"이청용\", \n",
    "        \"phone\": \"01040281234\"\n",
    "    },\n",
    "    {\n",
    "        \"name\": \"손흥민\",\n",
    "        \"phone\": \"01040281234\"\n",
    "    }\n",
    "]\n",
    "\n",
    "print(phonebook)\n",
    "print(phonebook[1])"
   ]
  },
  {
   "cell_type": "code",
   "execution_count": null,
   "metadata": {},
   "outputs": [],
   "source": []
  }
 ],
 "metadata": {
  "kernelspec": {
   "display_name": "Python 3",
   "language": "python",
   "name": "python3"
  },
  "language_info": {
   "codemirror_mode": {
    "name": "ipython",
    "version": 3
   },
   "file_extension": ".py",
   "mimetype": "text/x-python",
   "name": "python",
   "nbconvert_exporter": "python",
   "pygments_lexer": "ipython3",
   "version": "3.7.4"
  }
 },
 "nbformat": 4,
 "nbformat_minor": 2
}
