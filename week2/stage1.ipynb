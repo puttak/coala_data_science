{
 "cells": [
  {
   "cell_type": "code",
   "execution_count": 3,
   "metadata": {
    "scrolled": false
   },
   "outputs": [
    {
     "name": "stdout",
     "output_type": "stream",
     "text": [
      "Hello World\n"
     ]
    }
   ],
   "source": [
    "print(\"Hello World\")"
   ]
  },
  {
   "cell_type": "markdown",
   "metadata": {},
   "source": [
    "# 큰 제목\n",
    "## 작은 제목\n",
    "\n",
    "일반텍스트\n",
    "\n",
    "*기울기*\n",
    "\n",
    "**진하게**\n",
    "\n",
    "`파이썬` `데이터` ㅎㅎ"
   ]
  },
  {
   "cell_type": "markdown",
   "metadata": {},
   "source": [
    "# 순서 없는 리스트\n",
    "\n",
    "- 딸기\n",
    "  - 빨간딸기\n",
    "    - 많이빨간딸기\n",
    "  - 초록딸기\n",
    "- 사과\n",
    "- 바나나\n",
    "- 파인애플\n",
    "\n",
    "# 순서 있는 리스트\n",
    "1. 박지성\n",
    "  1. 아인트호벤\n",
    "  2. 맨유\n",
    "2. 이청용\n",
    "3. 기성용"
   ]
  },
  {
   "cell_type": "markdown",
   "metadata": {},
   "source": [
    "# 이미지와 링크 삽입하기\n",
    "\n",
    "---\n",
    "\n",
    "## 이미지\n",
    "![강아지](https://t1.daumcdn.net/cfile/tistory/24283C3858F778CA2E)\n",
    "\n",
    "## 링크\n",
    "[링크 텍스트](https://naver.com)"
   ]
  },
  {
   "cell_type": "markdown",
   "metadata": {},
   "source": [
    "## 코드 넣기\n",
    "\n",
    "```python\n",
    "print(\"Hello World\")\n",
    "```\n",
    "\n",
    "## 인용구\n",
    "> 인용  \n",
    "> 인용  \n",
    "> 인용"
   ]
  },
  {
   "cell_type": "markdown",
   "metadata": {},
   "source": [
    "# 표만들기\n",
    "이름|전화번호|이메일\n",
    "-|-|-\n",
    "A|010|asdsa\n",
    "asd|asds|asds"
   ]
  },
  {
   "cell_type": "code",
   "execution_count": 4,
   "metadata": {},
   "outputs": [],
   "source": [
    "import pandas as pd\n",
    "import numpy as np"
   ]
  },
  {
   "cell_type": "markdown",
   "metadata": {},
   "source": [
    "# 마크다운 연습기\n",
    "\n",
    "---\n",
    "마크다운을 사용하면서 주피터 노트북과 친해져보겠습니다.  \n",
    "이 링크를 누르면 [코알라](https://coalastudy.com/)로 이동하세요.\n",
    "\n",
    "여기서부터는 다른 문단입니다.\n",
    "\n",
    "\n",
    "---\n",
    "# 지금까지 배운내용\n",
    "마크다운으로 배운 내용\n",
    "1. 큰 제목 넣기\n",
    "1. 리스트 넣기\n",
    "2. 표 넣기\n",
    "4. 기타\n",
    "\n",
    "\n",
    "---\n",
    "# 정리\n",
    "문법|사용법\n",
    "-|-\n",
    "큰 제목|#을 사용\n",
    "리스트|-혹은 1.사용\n",
    "\n",
    "---\n",
    "# 마무리\n",
    "파이썬 코드로 Hello World!를 만들면서 끝내요.\n",
    "```python\n",
    "print(\"Hello World!\")\n",
    "```"
   ]
  },
  {
   "cell_type": "code",
   "execution_count": 5,
   "metadata": {},
   "outputs": [
    {
     "name": "stdout",
     "output_type": "stream",
     "text": [
      "Hello World!\n"
     ]
    }
   ],
   "source": [
    "print(\"Hello World!\")"
   ]
  },
  {
   "cell_type": "markdown",
   "metadata": {},
   "source": [
    "# 제작자\n",
    "**작성자** 최도근\n",
    "![이미지](https://t1.daumcdn.net/cfile/tistory/24283C3858F778CA2E)"
   ]
  },
  {
   "cell_type": "code",
   "execution_count": null,
   "metadata": {},
   "outputs": [],
   "source": []
  }
 ],
 "metadata": {
  "kernelspec": {
   "display_name": "Python 3",
   "language": "python",
   "name": "python3"
  },
  "language_info": {
   "codemirror_mode": {
    "name": "ipython",
    "version": 3
   },
   "file_extension": ".py",
   "mimetype": "text/x-python",
   "name": "python",
   "nbconvert_exporter": "python",
   "pygments_lexer": "ipython3",
   "version": "3.7.4"
  }
 },
 "nbformat": 4,
 "nbformat_minor": 2
}
