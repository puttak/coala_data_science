{
 "cells": [
  {
   "cell_type": "code",
   "execution_count": 1,
   "metadata": {},
   "outputs": [],
   "source": [
    "data = [(1,2), (2,2.5), (3,2),\n",
    "       (3,3), (4,3), (5,5),\n",
    "       (6,2), (7,4), (8,5)]"
   ]
  },
  {
   "cell_type": "code",
   "execution_count": 6,
   "metadata": {},
   "outputs": [
    {
     "name": "stdout",
     "output_type": "stream",
     "text": [
      "0.35000000000000003 1.6500000000000001 6.539999999999999\n"
     ]
    }
   ],
   "source": [
    "import numpy as np\n",
    "min_a = 0\n",
    "min_b = 0\n",
    "min_sums = 99999\n",
    "\n",
    "for a in np.arange(0, 5, 0.01):\n",
    "    for b in np.arange(0, 5, 0.01):\n",
    "        sums = 0\n",
    "        for(x,y) in data:\n",
    "            predict = a*x + b\n",
    "            sums += (y-predict) * (y-predict)\n",
    "        if sums < min_sums:\n",
    "            min_a = a\n",
    "            min_b = b\n",
    "            min_sums = sums\n",
    "print(min_a, min_b, min_sums)"
   ]
  },
  {
   "cell_type": "code",
   "execution_count": null,
   "metadata": {},
   "outputs": [],
   "source": []
  }
 ],
 "metadata": {
  "kernelspec": {
   "display_name": "Python 3",
   "language": "python",
   "name": "python3"
  },
  "language_info": {
   "codemirror_mode": {
    "name": "ipython",
    "version": 3
   },
   "file_extension": ".py",
   "mimetype": "text/x-python",
   "name": "python",
   "nbconvert_exporter": "python",
   "pygments_lexer": "ipython3",
   "version": "3.7.4"
  }
 },
 "nbformat": 4,
 "nbformat_minor": 2
}
