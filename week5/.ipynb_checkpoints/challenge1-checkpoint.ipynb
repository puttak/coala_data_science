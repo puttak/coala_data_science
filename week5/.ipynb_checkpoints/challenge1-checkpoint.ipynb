{
 "cells": [
  {
   "cell_type": "code",
   "execution_count": 1,
   "metadata": {},
   "outputs": [],
   "source": [
    "data=[(1,5), (1.5,4), (2,3),\n",
    "     (3,1), (3,2), (4,1),\n",
    "     (5,1.5), (6,2), (6,4),\n",
    "     (7,4), (7,5)]"
   ]
  },
  {
   "cell_type": "code",
   "execution_count": 6,
   "metadata": {},
   "outputs": [
    {
     "name": "stdout",
     "output_type": "stream",
     "text": [
      "5.265625\n"
     ]
    }
   ],
   "source": [
    "a = 0.5\n",
    "b = -4\n",
    "c = 9\n",
    "\n",
    "sums = 0\n",
    "for (x,y) in data:\n",
    "    predict = a*x*x + b*x + c\n",
    "    sums += (y-predict) * (y-predict)\n",
    "print(sums)"
   ]
  },
  {
   "cell_type": "code",
   "execution_count": null,
   "metadata": {},
   "outputs": [],
   "source": []
  }
 ],
 "metadata": {
  "kernelspec": {
   "display_name": "Python 3",
   "language": "python",
   "name": "python3"
  },
  "language_info": {
   "codemirror_mode": {
    "name": "ipython",
    "version": 3
   },
   "file_extension": ".py",
   "mimetype": "text/x-python",
   "name": "python",
   "nbconvert_exporter": "python",
   "pygments_lexer": "ipython3",
   "version": "3.7.4"
  }
 },
 "nbformat": 4,
 "nbformat_minor": 2
}
