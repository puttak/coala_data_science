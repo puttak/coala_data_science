{
 "cells": [
  {
   "cell_type": "code",
   "execution_count": 1,
   "metadata": {},
   "outputs": [
    {
     "data": {
      "text/html": [
       "<div>\n",
       "<style scoped>\n",
       "    .dataframe tbody tr th:only-of-type {\n",
       "        vertical-align: middle;\n",
       "    }\n",
       "\n",
       "    .dataframe tbody tr th {\n",
       "        vertical-align: top;\n",
       "    }\n",
       "\n",
       "    .dataframe thead th {\n",
       "        text-align: right;\n",
       "    }\n",
       "</style>\n",
       "<table border=\"1\" class=\"dataframe\">\n",
       "  <thead>\n",
       "    <tr style=\"text-align: right;\">\n",
       "      <th></th>\n",
       "      <th>이름</th>\n",
       "      <th>적합사이즈</th>\n",
       "      <th>나이</th>\n",
       "      <th>출장수</th>\n",
       "      <th>키</th>\n",
       "      <th>몸무게</th>\n",
       "    </tr>\n",
       "  </thead>\n",
       "  <tbody>\n",
       "    <tr>\n",
       "      <td>0</td>\n",
       "      <td>조현우</td>\n",
       "      <td>275</td>\n",
       "      <td>27</td>\n",
       "      <td>12</td>\n",
       "      <td>189</td>\n",
       "      <td>75</td>\n",
       "    </tr>\n",
       "    <tr>\n",
       "      <td>1</td>\n",
       "      <td>김영권</td>\n",
       "      <td>285</td>\n",
       "      <td>29</td>\n",
       "      <td>69</td>\n",
       "      <td>186</td>\n",
       "      <td>81</td>\n",
       "    </tr>\n",
       "    <tr>\n",
       "      <td>2</td>\n",
       "      <td>김민재</td>\n",
       "      <td>290</td>\n",
       "      <td>22</td>\n",
       "      <td>19</td>\n",
       "      <td>190</td>\n",
       "      <td>88</td>\n",
       "    </tr>\n",
       "    <tr>\n",
       "      <td>3</td>\n",
       "      <td>이청용</td>\n",
       "      <td>265</td>\n",
       "      <td>30</td>\n",
       "      <td>89</td>\n",
       "      <td>180</td>\n",
       "      <td>70</td>\n",
       "    </tr>\n",
       "    <tr>\n",
       "      <td>4</td>\n",
       "      <td>손흥민</td>\n",
       "      <td>260</td>\n",
       "      <td>26</td>\n",
       "      <td>79</td>\n",
       "      <td>183</td>\n",
       "      <td>77</td>\n",
       "    </tr>\n",
       "    <tr>\n",
       "      <td>5</td>\n",
       "      <td>이재성</td>\n",
       "      <td>275</td>\n",
       "      <td>26</td>\n",
       "      <td>43</td>\n",
       "      <td>180</td>\n",
       "      <td>70</td>\n",
       "    </tr>\n",
       "    <tr>\n",
       "      <td>6</td>\n",
       "      <td>백승호</td>\n",
       "      <td>280</td>\n",
       "      <td>22</td>\n",
       "      <td>0</td>\n",
       "      <td>180</td>\n",
       "      <td>68</td>\n",
       "    </tr>\n",
       "    <tr>\n",
       "      <td>7</td>\n",
       "      <td>이강인</td>\n",
       "      <td>270</td>\n",
       "      <td>18</td>\n",
       "      <td>0</td>\n",
       "      <td>173</td>\n",
       "      <td>63</td>\n",
       "    </tr>\n",
       "    <tr>\n",
       "      <td>8</td>\n",
       "      <td>이승우</td>\n",
       "      <td>260</td>\n",
       "      <td>21</td>\n",
       "      <td>10</td>\n",
       "      <td>170</td>\n",
       "      <td>63</td>\n",
       "    </tr>\n",
       "    <tr>\n",
       "      <td>9</td>\n",
       "      <td>황의조</td>\n",
       "      <td>275</td>\n",
       "      <td>26</td>\n",
       "      <td>25</td>\n",
       "      <td>184</td>\n",
       "      <td>73</td>\n",
       "    </tr>\n",
       "  </tbody>\n",
       "</table>\n",
       "</div>"
      ],
      "text/plain": [
       "    이름  적합사이즈  나이  출장수    키  몸무게\n",
       "0  조현우    275  27   12  189   75\n",
       "1  김영권    285  29   69  186   81\n",
       "2  김민재    290  22   19  190   88\n",
       "3  이청용    265  30   89  180   70\n",
       "4  손흥민    260  26   79  183   77\n",
       "5  이재성    275  26   43  180   70\n",
       "6  백승호    280  22    0  180   68\n",
       "7  이강인    270  18    0  173   63\n",
       "8  이승우    260  21   10  170   63\n",
       "9  황의조    275  26   25  184   73"
      ]
     },
     "execution_count": 1,
     "metadata": {},
     "output_type": "execute_result"
    }
   ],
   "source": [
    "import pandas as pd\n",
    "\n",
    "df = pd.read_csv(\"data/korean_players.csv\")\n",
    "df"
   ]
  },
  {
   "cell_type": "code",
   "execution_count": 2,
   "metadata": {},
   "outputs": [
    {
     "data": {
      "text/html": [
       "<div>\n",
       "<style scoped>\n",
       "    .dataframe tbody tr th:only-of-type {\n",
       "        vertical-align: middle;\n",
       "    }\n",
       "\n",
       "    .dataframe tbody tr th {\n",
       "        vertical-align: top;\n",
       "    }\n",
       "\n",
       "    .dataframe thead th {\n",
       "        text-align: right;\n",
       "    }\n",
       "</style>\n",
       "<table border=\"1\" class=\"dataframe\">\n",
       "  <thead>\n",
       "    <tr style=\"text-align: right;\">\n",
       "      <th></th>\n",
       "      <th>적합사이즈</th>\n",
       "      <th>나이</th>\n",
       "      <th>출장수</th>\n",
       "      <th>키</th>\n",
       "      <th>몸무게</th>\n",
       "    </tr>\n",
       "  </thead>\n",
       "  <tbody>\n",
       "    <tr>\n",
       "      <td>count</td>\n",
       "      <td>10.000000</td>\n",
       "      <td>10.000000</td>\n",
       "      <td>10.000000</td>\n",
       "      <td>10.000000</td>\n",
       "      <td>10.000000</td>\n",
       "    </tr>\n",
       "    <tr>\n",
       "      <td>mean</td>\n",
       "      <td>273.500000</td>\n",
       "      <td>24.700000</td>\n",
       "      <td>34.600000</td>\n",
       "      <td>181.500000</td>\n",
       "      <td>72.800000</td>\n",
       "    </tr>\n",
       "    <tr>\n",
       "      <td>std</td>\n",
       "      <td>10.013879</td>\n",
       "      <td>3.802046</td>\n",
       "      <td>33.383962</td>\n",
       "      <td>6.398785</td>\n",
       "      <td>7.828722</td>\n",
       "    </tr>\n",
       "    <tr>\n",
       "      <td>min</td>\n",
       "      <td>260.000000</td>\n",
       "      <td>18.000000</td>\n",
       "      <td>0.000000</td>\n",
       "      <td>170.000000</td>\n",
       "      <td>63.000000</td>\n",
       "    </tr>\n",
       "    <tr>\n",
       "      <td>25%</td>\n",
       "      <td>266.250000</td>\n",
       "      <td>22.000000</td>\n",
       "      <td>10.500000</td>\n",
       "      <td>180.000000</td>\n",
       "      <td>68.500000</td>\n",
       "    </tr>\n",
       "    <tr>\n",
       "      <td>50%</td>\n",
       "      <td>275.000000</td>\n",
       "      <td>26.000000</td>\n",
       "      <td>22.000000</td>\n",
       "      <td>181.500000</td>\n",
       "      <td>71.500000</td>\n",
       "    </tr>\n",
       "    <tr>\n",
       "      <td>75%</td>\n",
       "      <td>278.750000</td>\n",
       "      <td>26.750000</td>\n",
       "      <td>62.500000</td>\n",
       "      <td>185.500000</td>\n",
       "      <td>76.500000</td>\n",
       "    </tr>\n",
       "    <tr>\n",
       "      <td>max</td>\n",
       "      <td>290.000000</td>\n",
       "      <td>30.000000</td>\n",
       "      <td>89.000000</td>\n",
       "      <td>190.000000</td>\n",
       "      <td>88.000000</td>\n",
       "    </tr>\n",
       "  </tbody>\n",
       "</table>\n",
       "</div>"
      ],
      "text/plain": [
       "            적합사이즈         나이        출장수           키        몸무게\n",
       "count   10.000000  10.000000  10.000000   10.000000  10.000000\n",
       "mean   273.500000  24.700000  34.600000  181.500000  72.800000\n",
       "std     10.013879   3.802046  33.383962    6.398785   7.828722\n",
       "min    260.000000  18.000000   0.000000  170.000000  63.000000\n",
       "25%    266.250000  22.000000  10.500000  180.000000  68.500000\n",
       "50%    275.000000  26.000000  22.000000  181.500000  71.500000\n",
       "75%    278.750000  26.750000  62.500000  185.500000  76.500000\n",
       "max    290.000000  30.000000  89.000000  190.000000  88.000000"
      ]
     },
     "execution_count": 2,
     "metadata": {},
     "output_type": "execute_result"
    }
   ],
   "source": [
    "df.describe()"
   ]
  },
  {
   "cell_type": "code",
   "execution_count": 3,
   "metadata": {},
   "outputs": [],
   "source": [
    "x_train = df[[\"나이\", \"출장수\", \"키\", \"몸무게\"]]\n",
    "y_train = df[\"적합사이즈\"]"
   ]
  },
  {
   "cell_type": "code",
   "execution_count": 4,
   "metadata": {},
   "outputs": [
    {
     "name": "stdout",
     "output_type": "stream",
     "text": [
      "train set accuracy 0.6550739388896683\n"
     ]
    }
   ],
   "source": [
    "from sklearn.linear_model import LinearRegression\n",
    "\n",
    "lr = LinearRegression().fit(x_train, y_train)\n",
    "\n",
    "print(\"train set accuracy\", lr.score(x_train, y_train))"
   ]
  },
  {
   "cell_type": "code",
   "execution_count": 5,
   "metadata": {},
   "outputs": [
    {
     "data": {
      "text/html": [
       "<div>\n",
       "<style scoped>\n",
       "    .dataframe tbody tr th:only-of-type {\n",
       "        vertical-align: middle;\n",
       "    }\n",
       "\n",
       "    .dataframe tbody tr th {\n",
       "        vertical-align: top;\n",
       "    }\n",
       "\n",
       "    .dataframe thead th {\n",
       "        text-align: right;\n",
       "    }\n",
       "</style>\n",
       "<table border=\"1\" class=\"dataframe\">\n",
       "  <thead>\n",
       "    <tr style=\"text-align: right;\">\n",
       "      <th></th>\n",
       "      <th>이름</th>\n",
       "      <th>나이</th>\n",
       "      <th>출장수</th>\n",
       "      <th>키</th>\n",
       "      <th>몸무게</th>\n",
       "    </tr>\n",
       "  </thead>\n",
       "  <tbody>\n",
       "    <tr>\n",
       "      <td>0</td>\n",
       "      <td>황인범</td>\n",
       "      <td>22</td>\n",
       "      <td>14</td>\n",
       "      <td>177</td>\n",
       "      <td>67</td>\n",
       "    </tr>\n",
       "    <tr>\n",
       "      <td>1</td>\n",
       "      <td>김신욱</td>\n",
       "      <td>31</td>\n",
       "      <td>51</td>\n",
       "      <td>196</td>\n",
       "      <td>93</td>\n",
       "    </tr>\n",
       "  </tbody>\n",
       "</table>\n",
       "</div>"
      ],
      "text/plain": [
       "    이름  나이  출장수    키  몸무게\n",
       "0  황인범  22   14  177   67\n",
       "1  김신욱  31   51  196   93"
      ]
     },
     "execution_count": 5,
     "metadata": {},
     "output_type": "execute_result"
    }
   ],
   "source": [
    "df_test = pd.read_csv(\"data/test_players.csv\")\n",
    "df_test"
   ]
  },
  {
   "cell_type": "code",
   "execution_count": 6,
   "metadata": {},
   "outputs": [
    {
     "data": {
      "text/plain": [
       "array([270.2212304 , 295.31336894])"
      ]
     },
     "execution_count": 6,
     "metadata": {},
     "output_type": "execute_result"
    }
   ],
   "source": [
    "x_test = df_test[[\"나이\", \"출장수\", \"키\", \"몸무게\"]]\n",
    "\n",
    "prediction = lr.predict(x_test)\n",
    "prediction"
   ]
  },
  {
   "cell_type": "code",
   "execution_count": 7,
   "metadata": {},
   "outputs": [
    {
     "data": {
      "text/plain": [
       "array([266.6995094])"
      ]
     },
     "execution_count": 7,
     "metadata": {},
     "output_type": "execute_result"
    }
   ],
   "source": [
    "lr.predict([[25, 100, 180, 80]])"
   ]
  },
  {
   "cell_type": "code",
   "execution_count": 8,
   "metadata": {},
   "outputs": [
    {
     "name": "stdout",
     "output_type": "stream",
     "text": [
      "황인범은 270.22123040228456사이즈\n"
     ]
    }
   ],
   "source": [
    "target_index = 0\n",
    "name = df_test.loc[target_index, \"이름\"]\n",
    "predict = prediction[target_index]\n",
    "\n",
    "print(name + \"은 \" +str(predict)+\"사이즈\")"
   ]
  },
  {
   "cell_type": "code",
   "execution_count": 11,
   "metadata": {},
   "outputs": [
    {
     "data": {
      "text/html": [
       "<div>\n",
       "<style scoped>\n",
       "    .dataframe tbody tr th:only-of-type {\n",
       "        vertical-align: middle;\n",
       "    }\n",
       "\n",
       "    .dataframe tbody tr th {\n",
       "        vertical-align: top;\n",
       "    }\n",
       "\n",
       "    .dataframe thead th {\n",
       "        text-align: right;\n",
       "    }\n",
       "</style>\n",
       "<table border=\"1\" class=\"dataframe\">\n",
       "  <thead>\n",
       "    <tr style=\"text-align: right;\">\n",
       "      <th></th>\n",
       "      <th>적합사이즈</th>\n",
       "      <th>나의 예측</th>\n",
       "    </tr>\n",
       "  </thead>\n",
       "  <tbody>\n",
       "    <tr>\n",
       "      <td>0</td>\n",
       "      <td>275</td>\n",
       "      <td>281.829639</td>\n",
       "    </tr>\n",
       "    <tr>\n",
       "      <td>1</td>\n",
       "      <td>285</td>\n",
       "      <td>277.882881</td>\n",
       "    </tr>\n",
       "    <tr>\n",
       "      <td>2</td>\n",
       "      <td>290</td>\n",
       "      <td>289.474580</td>\n",
       "    </tr>\n",
       "    <tr>\n",
       "      <td>3</td>\n",
       "      <td>265</td>\n",
       "      <td>263.176528</td>\n",
       "    </tr>\n",
       "    <tr>\n",
       "      <td>4</td>\n",
       "      <td>260</td>\n",
       "      <td>268.559816</td>\n",
       "    </tr>\n",
       "    <tr>\n",
       "      <td>5</td>\n",
       "      <td>275</td>\n",
       "      <td>270.052410</td>\n",
       "    </tr>\n",
       "    <tr>\n",
       "      <td>6</td>\n",
       "      <td>280</td>\n",
       "      <td>273.917114</td>\n",
       "    </tr>\n",
       "    <tr>\n",
       "      <td>7</td>\n",
       "      <td>270</td>\n",
       "      <td>265.904555</td>\n",
       "    </tr>\n",
       "    <tr>\n",
       "      <td>8</td>\n",
       "      <td>260</td>\n",
       "      <td>267.476237</td>\n",
       "    </tr>\n",
       "    <tr>\n",
       "      <td>9</td>\n",
       "      <td>275</td>\n",
       "      <td>276.726240</td>\n",
       "    </tr>\n",
       "  </tbody>\n",
       "</table>\n",
       "</div>"
      ],
      "text/plain": [
       "   적합사이즈       나의 예측\n",
       "0    275  281.829639\n",
       "1    285  277.882881\n",
       "2    290  289.474580\n",
       "3    265  263.176528\n",
       "4    260  268.559816\n",
       "5    275  270.052410\n",
       "6    280  273.917114\n",
       "7    270  265.904555\n",
       "8    260  267.476237\n",
       "9    275  276.726240"
      ]
     },
     "execution_count": 11,
     "metadata": {},
     "output_type": "execute_result"
    }
   ],
   "source": [
    "comparison = pd.DataFrame(y_train)\n",
    "y_test = lr.predict(x_train)\n",
    "\n",
    "comparison[\"나의 예측\"] = y_test \n",
    "comparison"
   ]
  },
  {
   "cell_type": "code",
   "execution_count": null,
   "metadata": {},
   "outputs": [],
   "source": []
  }
 ],
 "metadata": {
  "kernelspec": {
   "display_name": "Python 3",
   "language": "python",
   "name": "python3"
  },
  "language_info": {
   "codemirror_mode": {
    "name": "ipython",
    "version": 3
   },
   "file_extension": ".py",
   "mimetype": "text/x-python",
   "name": "python",
   "nbconvert_exporter": "python",
   "pygments_lexer": "ipython3",
   "version": "3.7.4"
  }
 },
 "nbformat": 4,
 "nbformat_minor": 2
}
