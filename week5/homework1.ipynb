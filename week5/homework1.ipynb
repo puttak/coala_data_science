{
 "cells": [
  {
   "cell_type": "code",
   "execution_count": 1,
   "metadata": {},
   "outputs": [],
   "source": [
    "import pandas as pd\n",
    "\n",
    "df = pd.read_csv(\"data/house.csv\")\n",
    "house_data = df.drop([\"id\", \"date\"], axis=1)"
   ]
  },
  {
   "cell_type": "code",
   "execution_count": 2,
   "metadata": {},
   "outputs": [
    {
     "name": "stdout",
     "output_type": "stream",
     "text": [
      "all data (21613, 18)\n",
      "train set (17290, 18) (17290,)\n",
      "test set (4323, 18) (4323,)\n"
     ]
    }
   ],
   "source": [
    "from sklearn.model_selection import train_test_split\n",
    "\n",
    "train_data = house_data.drop([\"price\"], axis=1)\n",
    "target_data = house_data[\"price\"]\n",
    "\n",
    "x_train, x_test, y_train, y_test = train_test_split(train_data, target_data, test_size=0.2)\n",
    "\n",
    "# x_train, x_valid, y_train, y_valid = train_test_split(x_train, y_train, test_size=0.2)\n",
    "\n",
    "print(\"all data\", train_data.shape)\n",
    "print(\"train set\", x_train.shape, y_train.shape)\n",
    "# print(\"valid set\", x_valid.shape, y_valid.shape)\n",
    "print(\"test set\", x_test.shape, y_test.shape)"
   ]
  },
  {
   "cell_type": "code",
   "execution_count": 3,
   "metadata": {},
   "outputs": [
    {
     "name": "stdout",
     "output_type": "stream",
     "text": [
      "train set score 0.6980900301783164\n"
     ]
    }
   ],
   "source": [
    "from sklearn.linear_model import LinearRegression\n",
    "\n",
    "lr = LinearRegression()\n",
    "lr.fit(x_train, y_train)\n",
    "\n",
    "print(\"train set score\", lr.score(x_train, y_train))\n",
    "# print(\"train set score\", lr.score(x_valid, y_valid))"
   ]
  },
  {
   "cell_type": "code",
   "execution_count": 4,
   "metadata": {},
   "outputs": [
    {
     "name": "stdout",
     "output_type": "stream",
     "text": [
      "train set score 0.8288428280423856\n"
     ]
    }
   ],
   "source": [
    "from sklearn.preprocessing import PolynomialFeatures\n",
    "from sklearn.pipeline import make_pipeline\n",
    "\n",
    "model = make_pipeline(PolynomialFeatures(2),\n",
    "                     LinearRegression())\n",
    "model.fit(x_train, y_train)\n",
    "\n",
    "print(\"train set score\", model.score(x_train, y_train))\n",
    "# print(\"train set score\", model.score(x_valid, y_valid))"
   ]
  },
  {
   "cell_type": "code",
   "execution_count": 5,
   "metadata": {},
   "outputs": [
    {
     "name": "stdout",
     "output_type": "stream",
     "text": [
      "train set score 0.8046945491615908\n"
     ]
    }
   ],
   "source": [
    "model3 = make_pipeline(PolynomialFeatures(3),\n",
    "                     LinearRegression())\n",
    "model3.fit(x_train, y_train)\n",
    "\n",
    "print(\"train set score\", model3.score(x_train, y_train))\n",
    "# print(\"train set score\", model3.score(x_valid, y_valid))"
   ]
  },
  {
   "cell_type": "code",
   "execution_count": 6,
   "metadata": {},
   "outputs": [
    {
     "data": {
      "text/plain": [
       "array([880658.54131526])"
      ]
     },
     "execution_count": 6,
     "metadata": {},
     "output_type": "execute_result"
    }
   ],
   "source": [
    "my_data = pd.Series({\n",
    "    \"bedrooms\": 2,\n",
    "    \"bathrooms\": 2.5,\n",
    "    \"sqft_living\": 3000,\n",
    "    \"sqft_lot\": 5500,\n",
    "    \"floors\": 4,\n",
    "    \"waterfront\": 0,\n",
    "    \"view\": 0,\n",
    "    \"condition\": 3,\n",
    "    \"grade\": 9,\n",
    "    \"sqft_above\": 2350,\n",
    "    \"sqft_basement\": 500,\n",
    "    \"yr_built\": 2002,\n",
    "    \"yr_renovated\": 0,\n",
    "    \"zipcode\": 98000,\n",
    "    \"lat\": 47.5317,\n",
    "    \"long\": -122.391,\n",
    "    \"sqft_living15\": 2900,\n",
    "    \"sqft_lot15\": 3900\n",
    "})\n",
    "\n",
    "my_df = pd.DataFrame([my_data])\n",
    "\n",
    "lr.predict(my_df)"
   ]
  },
  {
   "cell_type": "code",
   "execution_count": 7,
   "metadata": {},
   "outputs": [
    {
     "name": "stdout",
     "output_type": "stream",
     "text": [
      "train set score 0.9993134169809876\n"
     ]
    }
   ],
   "source": [
    "from sklearn.tree import DecisionTreeRegressor\n",
    "\n",
    "tree = DecisionTreeRegressor().fit(x_train, y_train)\n",
    "\n",
    "print(\"train set score\", tree.score(x_train, y_train))\n",
    "# print(\"train set score\", tree.score(x_valid, y_valid))"
   ]
  },
  {
   "cell_type": "code",
   "execution_count": 9,
   "metadata": {},
   "outputs": [
    {
     "data": {
      "image/png": "[encoded data removed]",
      "text/plain": [
       "<Figure size 432x288 with 1 Axes>"
      ]
     },
     "metadata": {
      "needs_background": "light"
     },
     "output_type": "display_data"
    }
   ],
   "source": [
    "import matplotlib.pyplot as plt\n",
    "\n",
    "train_score = []\n",
    "# valid_score = []\n",
    "depth_range = range(1, 25)\n",
    "for depth in depth_range:\n",
    "    tree = DecisionTreeRegressor(max_depth=depth).fit(x_train, y_train)\n",
    "    train_score.append(tree.score(x_train, y_train))\n",
    "#     valid_score.append(tree.score(x_valid, y_valid))\n",
    "\n",
    "plt.plot(depth_range, train_score)\n",
    "# plt.plot(depth_range, valid_score)\n",
    "\n",
    "# plt.legend([\"Train\", \"Valid\"])\n",
    "\n",
    "plt.xlabel(\"Max Depth\")\n",
    "plt.ylabel(\"Score\")\n",
    "\n",
    "plt.show()"
   ]
  },
  {
   "cell_type": "code",
   "execution_count": 10,
   "metadata": {},
   "outputs": [
    {
     "name": "stdout",
     "output_type": "stream",
     "text": [
      "train set score 0.7357646183368398\n"
     ]
    }
   ],
   "source": [
    "print(\"train set score\", tree.score(x_test, y_test))"
   ]
  },
  {
   "cell_type": "code",
   "execution_count": null,
   "metadata": {},
   "outputs": [],
   "source": []
  }
 ],
 "metadata": {
  "kernelspec": {
   "display_name": "Python 3",
   "language": "python",
   "name": "python3"
  },
  "language_info": {
   "codemirror_mode": {
    "name": "ipython",
    "version": 3
   },
   "file_extension": ".py",
   "mimetype": "text/x-python",
   "name": "python",
   "nbconvert_exporter": "python",
   "pygments_lexer": "ipython3",
   "version": "3.7.4"
  }
 },
 "nbformat": 4,
 "nbformat_minor": 2
}
