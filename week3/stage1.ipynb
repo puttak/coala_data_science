{
 "cells": [
  {
   "cell_type": "code",
   "execution_count": 1,
   "metadata": {},
   "outputs": [
    {
     "name": "stdout",
     "output_type": "stream",
     "text": [
      "{'name': ['고양이', '펭귄', '닭', '타조', '참새'], 'wing': [False, True, True, True, True], 'weight': ['light', 'heavy', 'light', 'heavy', 'light'], 'density': ['low', 'high', 'high', 'high', 'low'], 'fly': [False, False, False, False, True]}\n"
     ]
    }
   ],
   "source": [
    "data = {\n",
    "    'name': ['고양이', '펭귄', '닭', '타조', '참새'],\n",
    "    'wing': [False, True, True, True, True],\n",
    "    'weight': ['light', 'heavy', 'light', 'heavy', 'light'],\n",
    "    'density': ['low', 'high', 'high', 'high', 'low'],\n",
    "    'fly': [False, False, False, False, True]\n",
    "}\n",
    "print(data)"
   ]
  },
  {
   "cell_type": "code",
   "execution_count": 3,
   "metadata": {},
   "outputs": [
    {
     "name": "stdout",
     "output_type": "stream",
     "text": [
      "고양이는 날개가 있을까? False\n",
      "닭? True\n"
     ]
    }
   ],
   "source": [
    "print(\"고양이는 날개가 있을까?\", data[\"wing\"][0])\n",
    "print(\"닭?\", data[\"wing\"][2])"
   ]
  },
  {
   "cell_type": "code",
   "execution_count": 4,
   "metadata": {},
   "outputs": [
    {
     "name": "stdout",
     "output_type": "stream",
     "text": [
      "True heavy high False\n"
     ]
    }
   ],
   "source": [
    "print(data[\"wing\"][1],\n",
    "     data[\"weight\"][1],\n",
    "     data[\"density\"][1],\n",
    "     data[\"fly\"][1])"
   ]
  },
  {
   "cell_type": "code",
   "execution_count": 5,
   "metadata": {},
   "outputs": [
    {
     "name": "stdout",
     "output_type": "stream",
     "text": [
      "False light low False\n"
     ]
    }
   ],
   "source": [
    "bird_no = 0\n",
    "print(data[\"wing\"][bird_no],\n",
    "     data[\"weight\"][bird_no],\n",
    "     data[\"density\"][bird_no],\n",
    "     data[\"fly\"][bird_no])"
   ]
  },
  {
   "cell_type": "code",
   "execution_count": 12,
   "metadata": {},
   "outputs": [
    {
     "name": "stdout",
     "output_type": "stream",
     "text": [
      "참새 : 날 수 있는지 확인합니다.\n",
      "날 수 있다\n"
     ]
    }
   ],
   "source": [
    "target_index = 4\n",
    "print(data[\"name\"][target_index], \": 날 수 있는지 확인합니다.\")\n",
    "\n",
    "if(data[\"wing\"][target_index]):\n",
    "    if(data[\"weight\"][target_index] == \"light\"):\n",
    "        if(data[\"density\"][target_index] == \"low\"):\n",
    "            print(\"날 수 있다\")\n",
    "        else:\n",
    "            print(\"날 수 없다\")\n",
    "    else:\n",
    "            print(\"날 수 없다\")\n",
    "else:\n",
    "            print(\"날 수 없다\")"
   ]
  },
  {
   "cell_type": "code",
   "execution_count": 17,
   "metadata": {},
   "outputs": [
    {
     "name": "stdout",
     "output_type": "stream",
     "text": [
      "1번 회원 : 성별을 확인합니다.\n",
      "남자\n"
     ]
    }
   ],
   "source": [
    "data = {\n",
    "    'name': ['1번 회원', '2번 회원', '3번 회원', '4번 회원'],\n",
    "    'age': [28, 22, 11, 10],\n",
    "    'fsize': [270, 235, 280, 220],\n",
    "    'gender': ['male', 'female', 'male', 'female']\n",
    "}\n",
    "\n",
    "target_index = 0\n",
    "print(data[\"name\"][target_index], \": 성별을 확인합니다.\")\n",
    "\n",
    "if(data[\"age\"][target_index]>20):\n",
    "    if(data[\"fsize\"][target_index]>250):\n",
    "        print(\"남자\")\n",
    "    else:\n",
    "        print(\"여자\")\n",
    "else:\n",
    "    if(data[\"fsize\"][target_index]>250):\n",
    "        print(\"남자\")\n",
    "    else:\n",
    "        print(\"여자\")"
   ]
  },
  {
   "cell_type": "code",
   "execution_count": null,
   "metadata": {},
   "outputs": [],
   "source": []
  }
 ],
 "metadata": {
  "kernelspec": {
   "display_name": "Python 3",
   "language": "python",
   "name": "python3"
  },
  "language_info": {
   "codemirror_mode": {
    "name": "ipython",
    "version": 3
   },
   "file_extension": ".py",
   "mimetype": "text/x-python",
   "name": "python",
   "nbconvert_exporter": "python",
   "pygments_lexer": "ipython3",
   "version": "3.7.4"
  }
 },
 "nbformat": 4,
 "nbformat_minor": 2
}
